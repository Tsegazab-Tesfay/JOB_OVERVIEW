{
 "cells": [
  {
   "cell_type": "code",
   "execution_count": 2,
   "metadata": {},
   "outputs": [],
   "source": [
    "import pandas as pd\n",
    "from pandas import DataFrame"
   ]
  },
  {
   "cell_type": "code",
   "execution_count": 13,
   "metadata": {},
   "outputs": [],
   "source": [
    "# list_of_overview = [\n",
    "#     \"Company_name\",\n",
    "#     \"Cover_letter\",\n",
    "#     \"Type\",\n",
    "#     \"Resume\",\n",
    "#     \"Date\",\n",
    "#     \"Place\",\n",
    "#     \"Announcement_found\"\n",
    "# ]\n",
    "\n",
    "# dataframe = pd.DataFrame(columns=list_of_overview)"
   ]
  },
  {
   "cell_type": "code",
   "execution_count": 101,
   "metadata": {},
   "outputs": [
    {
     "data": {
      "text/html": [
       "<div>\n",
       "<style scoped>\n",
       "    .dataframe tbody tr th:only-of-type {\n",
       "        vertical-align: middle;\n",
       "    }\n",
       "\n",
       "    .dataframe tbody tr th {\n",
       "        vertical-align: top;\n",
       "    }\n",
       "\n",
       "    .dataframe thead th {\n",
       "        text-align: right;\n",
       "    }\n",
       "</style>\n",
       "<table border=\"1\" class=\"dataframe\">\n",
       "  <thead>\n",
       "    <tr style=\"text-align: right;\">\n",
       "      <th></th>\n",
       "      <th>Company_name</th>\n",
       "      <th>Cover_letter</th>\n",
       "      <th>Type</th>\n",
       "      <th>Resume</th>\n",
       "      <th>Date</th>\n",
       "      <th>Place</th>\n",
       "      <th>Announcement_found</th>\n",
       "    </tr>\n",
       "  </thead>\n",
       "  <tbody>\n",
       "  </tbody>\n",
       "</table>\n",
       "</div>"
      ],
      "text/plain": [
       "Empty DataFrame\n",
       "Columns: [Company_name, Cover_letter, Type, Resume, Date, Place, Announcement_found]\n",
       "Index: []"
      ]
     },
     "execution_count": 101,
     "metadata": {},
     "output_type": "execute_result"
    }
   ],
   "source": [
    "# run the demo one\n",
    "dataframe = pd.read_csv(\"job_oversikt.csv\")\n",
    "dataframe.head()"
   ]
  },
  {
   "cell_type": "code",
   "execution_count": 112,
   "metadata": {},
   "outputs": [
    {
     "data": {
      "text/plain": [
       "{'Company_name': ['comp-1'],\n",
       " 'Cover_letter': ['prev-1'],\n",
       " 'Type': ['data'],\n",
       " 'Resume': ['prev-1'],\n",
       " 'Date': ['0109'],\n",
       " 'Place': ['oslo'],\n",
       " 'Announcement_found': ['finn']}"
      ]
     },
     "execution_count": 112,
     "metadata": {},
     "output_type": "execute_result"
    }
   ],
   "source": [
    "list_ = dataframe.columns\n",
    "list_\n",
    "dict_ = {'Company_name': [], 'Cover_letter': [], 'Type':[], 'Resume':[], 'Date':[], 'Place':[],\n",
    "       'Announcement_found':[]}\n",
    "\n",
    "# Company_name = []\n",
    "# Cover_letter = []\n",
    "# Type = []\n",
    "# Resume = []\n",
    "# Date = []\n",
    "# Place = []\n",
    "# Announcement_found = []\n",
    "\n",
    "for num, col in enumerate(dataframe.columns):\n",
    "    user_input : str = input(f\"Enter your input {col}: \")\n",
    "    list(dict_.values())[num].append(user_input)\n",
    "\n",
    "dict_\n"
   ]
  },
  {
   "cell_type": "code",
   "execution_count": 113,
   "metadata": {},
   "outputs": [
    {
     "data": {
      "text/html": [
       "<div>\n",
       "<style scoped>\n",
       "    .dataframe tbody tr th:only-of-type {\n",
       "        vertical-align: middle;\n",
       "    }\n",
       "\n",
       "    .dataframe tbody tr th {\n",
       "        vertical-align: top;\n",
       "    }\n",
       "\n",
       "    .dataframe thead th {\n",
       "        text-align: right;\n",
       "    }\n",
       "</style>\n",
       "<table border=\"1\" class=\"dataframe\">\n",
       "  <thead>\n",
       "    <tr style=\"text-align: right;\">\n",
       "      <th></th>\n",
       "      <th>Company_name</th>\n",
       "      <th>Cover_letter</th>\n",
       "      <th>Type</th>\n",
       "      <th>Resume</th>\n",
       "      <th>Date</th>\n",
       "      <th>Place</th>\n",
       "      <th>Announcement_found</th>\n",
       "    </tr>\n",
       "  </thead>\n",
       "  <tbody>\n",
       "    <tr>\n",
       "      <th>0</th>\n",
       "      <td>comp-1</td>\n",
       "      <td>prev-1</td>\n",
       "      <td>data</td>\n",
       "      <td>prev-1</td>\n",
       "      <td>0109</td>\n",
       "      <td>oslo</td>\n",
       "      <td>finn</td>\n",
       "    </tr>\n",
       "  </tbody>\n",
       "</table>\n",
       "</div>"
      ],
      "text/plain": [
       "  Company_name Cover_letter  Type  Resume  Date Place Announcement_found\n",
       "0       comp-1       prev-1  data  prev-1  0109  oslo               finn"
      ]
     },
     "execution_count": 113,
     "metadata": {},
     "output_type": "execute_result"
    }
   ],
   "source": [
    "pd.DataFrame(dict_)"
   ]
  },
  {
   "cell_type": "code",
   "execution_count": 115,
   "metadata": {},
   "outputs": [],
   "source": [
    "# add if attest added to the dataframe\n",
    "dataframe = pd.read_csv(\"job_oversikt.csv\")\n",
    "dataframe[\"Attest_added\"] = None\n",
    "dataframe.to_csv(\"job_oversikt.csv\", index=False, header=True)"
   ]
  },
  {
   "cell_type": "code",
   "execution_count": null,
   "metadata": {},
   "outputs": [],
   "source": []
  },
  {
   "cell_type": "code",
   "execution_count": 5,
   "metadata": {},
   "outputs": [
    {
     "ename": "TypeError",
     "evalue": "unbound method datetime.date() needs an argument",
     "output_type": "error",
     "traceback": [
      "\u001b[0;31m---------------------------------------------------------------------------\u001b[0m",
      "\u001b[0;31mTypeError\u001b[0m                                 Traceback (most recent call last)",
      "Cell \u001b[0;32mIn[5], line 2\u001b[0m\n\u001b[1;32m      1\u001b[0m \u001b[39mfrom\u001b[39;00m \u001b[39mdatetime\u001b[39;00m \u001b[39mimport\u001b[39;00m datetime\n\u001b[0;32m----> 2\u001b[0m \u001b[39mprint\u001b[39m(datetime\u001b[39m.\u001b[39;49mdate())\n",
      "\u001b[0;31mTypeError\u001b[0m: unbound method datetime.date() needs an argument"
     ]
    }
   ],
   "source": [
    "from datetime import datetime\n",
    "print(datetime.now().date())"
   ]
  },
  {
   "cell_type": "code",
   "execution_count": null,
   "metadata": {},
   "outputs": [],
   "source": []
  },
  {
   "cell_type": "code",
   "execution_count": null,
   "metadata": {},
   "outputs": [],
   "source": []
  },
  {
   "cell_type": "code",
   "execution_count": null,
   "metadata": {},
   "outputs": [],
   "source": []
  },
  {
   "cell_type": "code",
   "execution_count": null,
   "metadata": {},
   "outputs": [],
   "source": []
  },
  {
   "cell_type": "code",
   "execution_count": null,
   "metadata": {},
   "outputs": [],
   "source": []
  }
 ],
 "metadata": {
  "kernelspec": {
   "display_name": "Python 3",
   "language": "python",
   "name": "python3"
  },
  "language_info": {
   "codemirror_mode": {
    "name": "ipython",
    "version": 3
   },
   "file_extension": ".py",
   "mimetype": "text/x-python",
   "name": "python",
   "nbconvert_exporter": "python",
   "pygments_lexer": "ipython3",
   "version": "3.11.4"
  },
  "orig_nbformat": 4
 },
 "nbformat": 4,
 "nbformat_minor": 2
}
